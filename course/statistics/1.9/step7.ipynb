{
 "cells": [
  {
   "cell_type": "markdown",
   "metadata": {},
   "source": [
    "![alt text](z.png \"Title\")"
   ]
  },
  {
   "cell_type": "code",
   "execution_count": 30,
   "metadata": {},
   "outputs": [
    {
     "name": "stdout",
     "output_type": "stream",
     "text": [
      "s=0.995\n",
      "se=0.5\n",
      "z=2.5758293035489004\n",
      "[8.71208534822555 ; 11.28791465177445]\n"
     ]
    }
   ],
   "source": [
    "import scipy.stats\n",
    "import math\n",
    "\n",
    "mean = 10\n",
    "sd = 5\n",
    "n = 100\n",
    "\n",
    "y = 99/100\n",
    "s = y + (1-y)/2\n",
    "print(f\"{s=}\")\n",
    "se = sd / math.sqrt(n)\n",
    "print(f\"{se=}\")\n",
    "\n",
    "# ppf - значение z по данному проценту\n",
    "z = scipy.stats.norm.ppf(s)\n",
    "print(f\"{z=}\")\n",
    "\n",
    "point1 = mean - z * se\n",
    "point2 = mean + z * se\n",
    "\n",
    "print(f\"[{point1} ; {point2}]\")\n"
   ]
  }
 ],
 "metadata": {
  "language_info": {
   "name": "python"
  },
  "orig_nbformat": 4
 },
 "nbformat": 4,
 "nbformat_minor": 2
}
