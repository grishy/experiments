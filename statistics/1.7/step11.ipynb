{
 "cells": [
  {
   "cell_type": "markdown",
   "metadata": {},
   "source": [
    "Cumulative distribution function:\n",
    "$F_X(x) = P(X <= x)$ \n"
   ]
  },
  {
   "cell_type": "code",
   "execution_count": 6,
   "metadata": {},
   "outputs": [
    {
     "name": "stdout",
     "output_type": "stream",
     "text": [
      "z=1.6666666666666667\n",
      "cdf=0.9522096477271853\n",
      "moreXi=0.047790352272814696\n"
     ]
    }
   ],
   "source": [
    "import scipy.stats as st\n",
    "\n",
    "M = 100\n",
    "sd = 15\n",
    "\n",
    "Xi = 125\n",
    "z = (Xi - M) / sd\n",
    "\n",
    "print(f\"{z=}\")\n",
    "\n",
    "# < Xi\n",
    "cdf = st.norm.cdf(z)\n",
    "print(f\"{cdf=}\")\n",
    "\n",
    "# Какой приблизительно процент людей обладает IQ > 125?\n",
    "moreXi = 1 - cdf\n",
    "print(f\"{cdf=}\")\n"
   ]
  }
 ],
 "metadata": {
  "kernelspec": {
   "display_name": "Python 3.9.13 ('.venv')",
   "language": "python",
   "name": "python3"
  },
  "language_info": {
   "codemirror_mode": {
    "name": "ipython",
    "version": 3
   },
   "file_extension": ".py",
   "mimetype": "text/x-python",
   "name": "python",
   "nbconvert_exporter": "python",
   "pygments_lexer": "ipython3",
   "version": "3.9.13"
  },
  "orig_nbformat": 4,
  "vscode": {
   "interpreter": {
    "hash": "c83c13f5be577b3f250bb822e3d5a350f5543a1f43e005122da6846d754d7809"
   }
  }
 },
 "nbformat": 4,
 "nbformat_minor": 2
}
