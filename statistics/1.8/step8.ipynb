{
 "cells": [
  {
   "cell_type": "markdown",
   "metadata": {},
   "source": [
    "$$se = {sd_x \\over \\sqrt{n}}$$"
   ]
  },
  {
   "cell_type": "code",
   "execution_count": 1,
   "metadata": {},
   "outputs": [
    {
     "name": "stdout",
     "output_type": "stream",
     "text": [
      "se=0.2\n"
     ]
    }
   ],
   "source": [
    "import math\n",
    "mean = 10\n",
    "D = 4\n",
    "N = 100\n",
    "\n",
    "sigma = math.sqrt(D)\n",
    "se = sigma/ math.sqrt(N)\n",
    "print(f\"{se=}\")"
   ]
  }
 ],
 "metadata": {
  "kernelspec": {
   "display_name": "Python 3.9.13 ('.venv')",
   "language": "python",
   "name": "python3"
  },
  "language_info": {
   "codemirror_mode": {
    "name": "ipython",
    "version": 3
   },
   "file_extension": ".py",
   "mimetype": "text/x-python",
   "name": "python",
   "nbconvert_exporter": "python",
   "pygments_lexer": "ipython3",
   "version": "3.9.13"
  },
  "orig_nbformat": 4,
  "vscode": {
   "interpreter": {
    "hash": "c83c13f5be577b3f250bb822e3d5a350f5543a1f43e005122da6846d754d7809"
   }
  }
 },
 "nbformat": 4,
 "nbformat_minor": 2
}
